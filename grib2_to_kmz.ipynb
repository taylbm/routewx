{
 "cells": [
  {
   "cell_type": "markdown",
   "metadata": {
    "execution": {
     "iopub.execute_input": "2021-10-11T20:10:41.901406Z",
     "iopub.status.busy": "2021-10-11T20:10:41.901074Z",
     "iopub.status.idle": "2021-10-11T20:10:41.904395Z",
     "shell.execute_reply": "2021-10-11T20:10:41.903937Z",
     "shell.execute_reply.started": "2021-10-11T20:10:41.901341Z"
    }
   },
   "source": []
  },
  {
   "cell_type": "markdown",
   "id": "2a8eaab5",
   "metadata": {},
   "source": [
    "# Convert GRIB2 to KMZ"
   ]
  },
  {
   "cell_type": "code",
   "execution_count": 14,
   "metadata": {
    "execution": {
     "iopub.execute_input": "2021-10-21T21:15:41.174928Z",
     "iopub.status.busy": "2021-10-21T21:15:41.174654Z",
     "iopub.status.idle": "2021-10-21T21:15:41.184793Z",
     "shell.execute_reply": "2021-10-21T21:15:41.184370Z",
     "shell.execute_reply.started": "2021-10-21T21:15:41.174905Z"
    },
    "tags": []
   },
   "outputs": [],
   "source": [
    "import os\n",
    "import shutil\n",
    "import subprocess\n",
    "from datetime import datetime, timedelta\n",
    "\n",
    "from osgeo import gdal\n",
    "import boto3\n",
    "\n",
    "bucket_obj = boto3.resource(\"s3\").Bucket(\"routewx\")\n",
    "\n",
    "# MAKE SURE TO CHANGE TO YOUR WORKING DIRECTORY SO GDAL KNOWS WHERE TO FIND YOUR FILE\n",
    "#os.chdir(\"/workspace/routeweather-mapbox-ios/\")\n",
    "\n",
    "gdal.SetConfigOption(\"AWS_NO_SIGN_REQUEST\", \"YES\")\n",
    "\n",
    "retrieve_dt = datetime.utcnow() - timedelta(hours=2)\n",
    "retrieve_hour = retrieve_dt.strftime(\"%H\")\n",
    "forecast_hour = (24 - int(retrieve_hour) if int(retrieve_hour) > 0 else 0) + 72\n",
    "# Change to your filename here\n",
    "vsis3_fname = f\"/vsis3/noaa-nbm-grib2-pds/blend.{retrieve_dt:%Y%m%d}/{retrieve_hour}/core/blend.t{retrieve_hour}z.core.f0{forecast_hour}.co.grib2\"\n",
    "\n",
    "out_fname = \"latest.kmz\"\n",
    "metadata = vsis3_fname.split(\"/\")[-1]\n",
    "band_vsi = \"/vsimem/band.tif\"\n",
    "warp_vsi = \"/vsimem/warp.tif\"\n",
    "color_tmp = \"/tmp/colors.tif\"\n",
    "prefix = \"nbm_snow_accum\"\n"
   ]
  },
  {
   "cell_type": "code",
   "execution_count": 15,
   "metadata": {
    "execution": {
     "iopub.execute_input": "2021-10-21T21:15:46.321903Z",
     "iopub.status.busy": "2021-10-21T21:15:46.321608Z",
     "iopub.status.idle": "2021-10-21T21:19:36.250226Z",
     "shell.execute_reply": "2021-10-21T21:19:36.249656Z",
     "shell.execute_reply.started": "2021-10-21T21:15:46.321881Z"
    },
    "tags": []
   },
   "outputs": [
    {
     "name": "stdout",
     "output_type": "stream",
     "text": [
      "extract desired band\n",
      "Reprojecting to (EPSG:4326)\n",
      "Applying custom color palette to raster...\n",
      "Input file size is 2942, 1404\n",
      "0...10...20...30...40...50...60...70...80...90...100 - done.\n"
     ]
    }
   ],
   "source": [
    "translate_options = gdal.TranslateOptions(bandList=[131])\n",
    "print(\"extract desired band\")\n",
    "gdal.Translate(band_vsi, vsis3_fname, options=translate_options)\n",
    "\n",
    "grbs = gdal.Open(band_vsi)\n",
    "\n",
    "# reproject to GPS Coords\n",
    "print(\"Reprojecting to (EPSG:4326)\")\n",
    "warp_options = gdal.WarpOptions(dstSRS=\"EPSG:4326\", format=\"GTiff\")\n",
    "warp = gdal.Warp(warp_vsi, grbs, options=warp_options)\n",
    "\n",
    "# apply custom color palette\n",
    "print(\"Applying custom color palette to raster...\")\n",
    "dem_options = gdal.DEMProcessingOptions(colorFilename=\"snod.txt\", format=\"GTiff\", addAlpha=True)\n",
    "gdal.DEMProcessing(color_tmp, warp, \"color-relief\", options=dem_options)\n",
    "\n",
    "subprocess.run([\"gdal_translate\", \"-co\", \"FORMAT=PNG\", \"-of\", \"KMLSUPEROVERLAY\", \"-dsco\", \"NameField=72-Hour Snow Accum\", \"-dsco\", f\"DescriptionField={metadata}\", color_tmp, out_fname])\n",
    "\n",
    "bucket_obj.upload_file(Filename=mbtiles_fname, Key=f\"{prefix}/{out_fname}\", ExtraArgs={\"ACL\": \"public-read\"})\n",
    "\n",
    "gdal.Unlink(band_vsi)\n",
    "gdal.Unlink(warp_vsi)\n",
    "os.remove(color_tmp)"
   ]
  },
  {
   "cell_type": "code",
   "execution_count": 16,
   "id": "126c66b9",
   "metadata": {},
   "outputs": [],
   "source": [
    "import subprocess\n",
    "from osgeo import gdal\n",
    "\n",
    "#band = subprocess.check_output([\"gdalinfo\", \"|\", \"blend.t15z.core.f033.co.grib2\", \"grep 'Total snowfall Percentile(50)' -B 4\", \"sed -n 's/.*Band//p'\", \"cut -d 'B' -f1\", \"xargs\"])\n",
    "\n",
    "#subprocess.run([\"gdal_contour\", \"blend.t15z.core.f033.co.grib2\", \"-b\", \"85\", \"-i\", \"0.0254\", \"snow.kml\"])\n",
    "#gdaldem color-relief -nearest_color_entry -alpha -co format=png -of KMLSUPEROVERLAY raster.tif color.txt raster-kml.kmz\n",
    "#print(\"Applying custom color palette to raster...\")\n",
    "#dem_options = gdal.DEMProcessingOptions(colorFilename=\"snod.txt\", format=\"KMLSUPEROVERLAY\", addAlpha=True, band=85)\n",
    "#olors = gdal.DEMProcessing(\"snow.kmz\", \"blend.t15z.core.f033.co.grib2\", \"color-relief\", options=dem_options)\n",
    "#subprocess.run([\"gdaldem\", \"color-relief\", \"-nearest_color_entry\", \"-b\", \"85\", \"-alpha\", \"-co\", \"format=png\", \"-of\", \"KMLSUPEROVERLAY\", \"blend.t15z.core.f033.co.grib2\", \"snod.txt\", \"snow.kmz\"])\n"
   ]
  },
  {
   "cell_type": "code",
   "execution_count": null,
   "id": "5fb592e4",
   "metadata": {},
   "outputs": [],
   "source": []
  }
 ],
 "metadata": {
  "interpreter": {
   "hash": "db15aef49a6c0f4dd6c3f80a7eb021f302cc5e6bd12993ba6319966f80823112"
  },
  "kernelspec": {
   "display_name": "Python [conda env:metstormlive2-preprocessing]",
   "language": "python",
   "name": "python3"
  },
  "language_info": {
   "codemirror_mode": {
    "name": "ipython",
    "version": 3
   },
   "file_extension": ".py",
   "mimetype": "text/x-python",
   "name": "python",
   "nbconvert_exporter": "python",
   "pygments_lexer": "ipython3",
   "version": "3.9.10"
  }
 },
 "nbformat": 4,
 "nbformat_minor": 5
}
